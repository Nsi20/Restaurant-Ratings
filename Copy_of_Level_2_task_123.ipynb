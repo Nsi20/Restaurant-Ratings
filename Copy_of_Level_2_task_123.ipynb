{
  "nbformat": 4,
  "nbformat_minor": 0,
  "metadata": {
    "colab": {
      "provenance": [],
      "authorship_tag": "ABX9TyPlz7ythbx72B4yuRxVpMBp",
      "include_colab_link": true
    },
    "kernelspec": {
      "name": "python3",
      "display_name": "Python 3"
    },
    "language_info": {
      "name": "python"
    }
  },
  "cells": [
    {
      "cell_type": "markdown",
      "metadata": {
        "id": "view-in-github",
        "colab_type": "text"
      },
      "source": [
        "<a href=\"https://colab.research.google.com/github/Nsi20/Restaurant-Ratings/blob/main/Copy_of_Level_2_task_123.ipynb\" target=\"_parent\"><img src=\"https://colab.research.google.com/assets/colab-badge.svg\" alt=\"Open In Colab\"/></a>"
      ]
    },
    {
      "cell_type": "code",
      "source": [
        "from google.colab import files\n",
        "import pandas as pd\n",
        "\n",
        "uploaded = files.upload()\n",
        "\n",
        "df = pd.read_csv(list(uploaded.keys())[0])\n",
        "\n",
        "df.head()\n"
      ],
      "metadata": {
        "colab": {
          "base_uri": "https://localhost:8080/",
          "height": 867
        },
        "id": "Dumqs6EBwKiy",
        "outputId": "997573e8-a25a-43cf-d13a-ab8dfbc73bff"
      },
      "execution_count": 2,
      "outputs": [
        {
          "output_type": "display_data",
          "data": {
            "text/plain": [
              "<IPython.core.display.HTML object>"
            ],
            "text/html": [
              "\n",
              "     <input type=\"file\" id=\"files-02188ba3-e2cd-4588-a91e-c27cadff1689\" name=\"files[]\" multiple disabled\n",
              "        style=\"border:none\" />\n",
              "     <output id=\"result-02188ba3-e2cd-4588-a91e-c27cadff1689\">\n",
              "      Upload widget is only available when the cell has been executed in the\n",
              "      current browser session. Please rerun this cell to enable.\n",
              "      </output>\n",
              "      <script>// Copyright 2017 Google LLC\n",
              "//\n",
              "// Licensed under the Apache License, Version 2.0 (the \"License\");\n",
              "// you may not use this file except in compliance with the License.\n",
              "// You may obtain a copy of the License at\n",
              "//\n",
              "//      http://www.apache.org/licenses/LICENSE-2.0\n",
              "//\n",
              "// Unless required by applicable law or agreed to in writing, software\n",
              "// distributed under the License is distributed on an \"AS IS\" BASIS,\n",
              "// WITHOUT WARRANTIES OR CONDITIONS OF ANY KIND, either express or implied.\n",
              "// See the License for the specific language governing permissions and\n",
              "// limitations under the License.\n",
              "\n",
              "/**\n",
              " * @fileoverview Helpers for google.colab Python module.\n",
              " */\n",
              "(function(scope) {\n",
              "function span(text, styleAttributes = {}) {\n",
              "  const element = document.createElement('span');\n",
              "  element.textContent = text;\n",
              "  for (const key of Object.keys(styleAttributes)) {\n",
              "    element.style[key] = styleAttributes[key];\n",
              "  }\n",
              "  return element;\n",
              "}\n",
              "\n",
              "// Max number of bytes which will be uploaded at a time.\n",
              "const MAX_PAYLOAD_SIZE = 100 * 1024;\n",
              "\n",
              "function _uploadFiles(inputId, outputId) {\n",
              "  const steps = uploadFilesStep(inputId, outputId);\n",
              "  const outputElement = document.getElementById(outputId);\n",
              "  // Cache steps on the outputElement to make it available for the next call\n",
              "  // to uploadFilesContinue from Python.\n",
              "  outputElement.steps = steps;\n",
              "\n",
              "  return _uploadFilesContinue(outputId);\n",
              "}\n",
              "\n",
              "// This is roughly an async generator (not supported in the browser yet),\n",
              "// where there are multiple asynchronous steps and the Python side is going\n",
              "// to poll for completion of each step.\n",
              "// This uses a Promise to block the python side on completion of each step,\n",
              "// then passes the result of the previous step as the input to the next step.\n",
              "function _uploadFilesContinue(outputId) {\n",
              "  const outputElement = document.getElementById(outputId);\n",
              "  const steps = outputElement.steps;\n",
              "\n",
              "  const next = steps.next(outputElement.lastPromiseValue);\n",
              "  return Promise.resolve(next.value.promise).then((value) => {\n",
              "    // Cache the last promise value to make it available to the next\n",
              "    // step of the generator.\n",
              "    outputElement.lastPromiseValue = value;\n",
              "    return next.value.response;\n",
              "  });\n",
              "}\n",
              "\n",
              "/**\n",
              " * Generator function which is called between each async step of the upload\n",
              " * process.\n",
              " * @param {string} inputId Element ID of the input file picker element.\n",
              " * @param {string} outputId Element ID of the output display.\n",
              " * @return {!Iterable<!Object>} Iterable of next steps.\n",
              " */\n",
              "function* uploadFilesStep(inputId, outputId) {\n",
              "  const inputElement = document.getElementById(inputId);\n",
              "  inputElement.disabled = false;\n",
              "\n",
              "  const outputElement = document.getElementById(outputId);\n",
              "  outputElement.innerHTML = '';\n",
              "\n",
              "  const pickedPromise = new Promise((resolve) => {\n",
              "    inputElement.addEventListener('change', (e) => {\n",
              "      resolve(e.target.files);\n",
              "    });\n",
              "  });\n",
              "\n",
              "  const cancel = document.createElement('button');\n",
              "  inputElement.parentElement.appendChild(cancel);\n",
              "  cancel.textContent = 'Cancel upload';\n",
              "  const cancelPromise = new Promise((resolve) => {\n",
              "    cancel.onclick = () => {\n",
              "      resolve(null);\n",
              "    };\n",
              "  });\n",
              "\n",
              "  // Wait for the user to pick the files.\n",
              "  const files = yield {\n",
              "    promise: Promise.race([pickedPromise, cancelPromise]),\n",
              "    response: {\n",
              "      action: 'starting',\n",
              "    }\n",
              "  };\n",
              "\n",
              "  cancel.remove();\n",
              "\n",
              "  // Disable the input element since further picks are not allowed.\n",
              "  inputElement.disabled = true;\n",
              "\n",
              "  if (!files) {\n",
              "    return {\n",
              "      response: {\n",
              "        action: 'complete',\n",
              "      }\n",
              "    };\n",
              "  }\n",
              "\n",
              "  for (const file of files) {\n",
              "    const li = document.createElement('li');\n",
              "    li.append(span(file.name, {fontWeight: 'bold'}));\n",
              "    li.append(span(\n",
              "        `(${file.type || 'n/a'}) - ${file.size} bytes, ` +\n",
              "        `last modified: ${\n",
              "            file.lastModifiedDate ? file.lastModifiedDate.toLocaleDateString() :\n",
              "                                    'n/a'} - `));\n",
              "    const percent = span('0% done');\n",
              "    li.appendChild(percent);\n",
              "\n",
              "    outputElement.appendChild(li);\n",
              "\n",
              "    const fileDataPromise = new Promise((resolve) => {\n",
              "      const reader = new FileReader();\n",
              "      reader.onload = (e) => {\n",
              "        resolve(e.target.result);\n",
              "      };\n",
              "      reader.readAsArrayBuffer(file);\n",
              "    });\n",
              "    // Wait for the data to be ready.\n",
              "    let fileData = yield {\n",
              "      promise: fileDataPromise,\n",
              "      response: {\n",
              "        action: 'continue',\n",
              "      }\n",
              "    };\n",
              "\n",
              "    // Use a chunked sending to avoid message size limits. See b/62115660.\n",
              "    let position = 0;\n",
              "    do {\n",
              "      const length = Math.min(fileData.byteLength - position, MAX_PAYLOAD_SIZE);\n",
              "      const chunk = new Uint8Array(fileData, position, length);\n",
              "      position += length;\n",
              "\n",
              "      const base64 = btoa(String.fromCharCode.apply(null, chunk));\n",
              "      yield {\n",
              "        response: {\n",
              "          action: 'append',\n",
              "          file: file.name,\n",
              "          data: base64,\n",
              "        },\n",
              "      };\n",
              "\n",
              "      let percentDone = fileData.byteLength === 0 ?\n",
              "          100 :\n",
              "          Math.round((position / fileData.byteLength) * 100);\n",
              "      percent.textContent = `${percentDone}% done`;\n",
              "\n",
              "    } while (position < fileData.byteLength);\n",
              "  }\n",
              "\n",
              "  // All done.\n",
              "  yield {\n",
              "    response: {\n",
              "      action: 'complete',\n",
              "    }\n",
              "  };\n",
              "}\n",
              "\n",
              "scope.google = scope.google || {};\n",
              "scope.google.colab = scope.google.colab || {};\n",
              "scope.google.colab._files = {\n",
              "  _uploadFiles,\n",
              "  _uploadFilesContinue,\n",
              "};\n",
              "})(self);\n",
              "</script> "
            ]
          },
          "metadata": {}
        },
        {
          "output_type": "stream",
          "name": "stdout",
          "text": [
            "Saving Dataset .csv to Dataset .csv\n"
          ]
        },
        {
          "output_type": "execute_result",
          "data": {
            "text/plain": [
              "   Restaurant ID         Restaurant Name  Country Code              City  \\\n",
              "0        6317637        Le Petit Souffle           162       Makati City   \n",
              "1        6304287        Izakaya Kikufuji           162       Makati City   \n",
              "2        6300002  Heat - Edsa Shangri-La           162  Mandaluyong City   \n",
              "3        6318506                    Ooma           162  Mandaluyong City   \n",
              "4        6314302             Sambo Kojin           162  Mandaluyong City   \n",
              "\n",
              "                                             Address  \\\n",
              "0  Third Floor, Century City Mall, Kalayaan Avenu...   \n",
              "1  Little Tokyo, 2277 Chino Roces Avenue, Legaspi...   \n",
              "2  Edsa Shangri-La, 1 Garden Way, Ortigas, Mandal...   \n",
              "3  Third Floor, Mega Fashion Hall, SM Megamall, O...   \n",
              "4  Third Floor, Mega Atrium, SM Megamall, Ortigas...   \n",
              "\n",
              "                                     Locality  \\\n",
              "0   Century City Mall, Poblacion, Makati City   \n",
              "1  Little Tokyo, Legaspi Village, Makati City   \n",
              "2  Edsa Shangri-La, Ortigas, Mandaluyong City   \n",
              "3      SM Megamall, Ortigas, Mandaluyong City   \n",
              "4      SM Megamall, Ortigas, Mandaluyong City   \n",
              "\n",
              "                                    Locality Verbose   Longitude   Latitude  \\\n",
              "0  Century City Mall, Poblacion, Makati City, Mak...  121.027535  14.565443   \n",
              "1  Little Tokyo, Legaspi Village, Makati City, Ma...  121.014101  14.553708   \n",
              "2  Edsa Shangri-La, Ortigas, Mandaluyong City, Ma...  121.056831  14.581404   \n",
              "3  SM Megamall, Ortigas, Mandaluyong City, Mandal...  121.056475  14.585318   \n",
              "4  SM Megamall, Ortigas, Mandaluyong City, Mandal...  121.057508  14.584450   \n",
              "\n",
              "                           Cuisines  ...          Currency Has Table booking  \\\n",
              "0        French, Japanese, Desserts  ...  Botswana Pula(P)               Yes   \n",
              "1                          Japanese  ...  Botswana Pula(P)               Yes   \n",
              "2  Seafood, Asian, Filipino, Indian  ...  Botswana Pula(P)               Yes   \n",
              "3                   Japanese, Sushi  ...  Botswana Pula(P)                No   \n",
              "4                  Japanese, Korean  ...  Botswana Pula(P)               Yes   \n",
              "\n",
              "  Has Online delivery Is delivering now Switch to order menu Price range  \\\n",
              "0                  No                No                   No           3   \n",
              "1                  No                No                   No           3   \n",
              "2                  No                No                   No           4   \n",
              "3                  No                No                   No           4   \n",
              "4                  No                No                   No           4   \n",
              "\n",
              "   Aggregate rating  Rating color Rating text Votes  \n",
              "0               4.8    Dark Green   Excellent   314  \n",
              "1               4.5    Dark Green   Excellent   591  \n",
              "2               4.4         Green   Very Good   270  \n",
              "3               4.9    Dark Green   Excellent   365  \n",
              "4               4.8    Dark Green   Excellent   229  \n",
              "\n",
              "[5 rows x 21 columns]"
            ],
            "text/html": [
              "\n",
              "  <div id=\"df-65f43ad7-db29-42b1-914e-69770e3badf6\" class=\"colab-df-container\">\n",
              "    <div>\n",
              "<style scoped>\n",
              "    .dataframe tbody tr th:only-of-type {\n",
              "        vertical-align: middle;\n",
              "    }\n",
              "\n",
              "    .dataframe tbody tr th {\n",
              "        vertical-align: top;\n",
              "    }\n",
              "\n",
              "    .dataframe thead th {\n",
              "        text-align: right;\n",
              "    }\n",
              "</style>\n",
              "<table border=\"1\" class=\"dataframe\">\n",
              "  <thead>\n",
              "    <tr style=\"text-align: right;\">\n",
              "      <th></th>\n",
              "      <th>Restaurant ID</th>\n",
              "      <th>Restaurant Name</th>\n",
              "      <th>Country Code</th>\n",
              "      <th>City</th>\n",
              "      <th>Address</th>\n",
              "      <th>Locality</th>\n",
              "      <th>Locality Verbose</th>\n",
              "      <th>Longitude</th>\n",
              "      <th>Latitude</th>\n",
              "      <th>Cuisines</th>\n",
              "      <th>...</th>\n",
              "      <th>Currency</th>\n",
              "      <th>Has Table booking</th>\n",
              "      <th>Has Online delivery</th>\n",
              "      <th>Is delivering now</th>\n",
              "      <th>Switch to order menu</th>\n",
              "      <th>Price range</th>\n",
              "      <th>Aggregate rating</th>\n",
              "      <th>Rating color</th>\n",
              "      <th>Rating text</th>\n",
              "      <th>Votes</th>\n",
              "    </tr>\n",
              "  </thead>\n",
              "  <tbody>\n",
              "    <tr>\n",
              "      <th>0</th>\n",
              "      <td>6317637</td>\n",
              "      <td>Le Petit Souffle</td>\n",
              "      <td>162</td>\n",
              "      <td>Makati City</td>\n",
              "      <td>Third Floor, Century City Mall, Kalayaan Avenu...</td>\n",
              "      <td>Century City Mall, Poblacion, Makati City</td>\n",
              "      <td>Century City Mall, Poblacion, Makati City, Mak...</td>\n",
              "      <td>121.027535</td>\n",
              "      <td>14.565443</td>\n",
              "      <td>French, Japanese, Desserts</td>\n",
              "      <td>...</td>\n",
              "      <td>Botswana Pula(P)</td>\n",
              "      <td>Yes</td>\n",
              "      <td>No</td>\n",
              "      <td>No</td>\n",
              "      <td>No</td>\n",
              "      <td>3</td>\n",
              "      <td>4.8</td>\n",
              "      <td>Dark Green</td>\n",
              "      <td>Excellent</td>\n",
              "      <td>314</td>\n",
              "    </tr>\n",
              "    <tr>\n",
              "      <th>1</th>\n",
              "      <td>6304287</td>\n",
              "      <td>Izakaya Kikufuji</td>\n",
              "      <td>162</td>\n",
              "      <td>Makati City</td>\n",
              "      <td>Little Tokyo, 2277 Chino Roces Avenue, Legaspi...</td>\n",
              "      <td>Little Tokyo, Legaspi Village, Makati City</td>\n",
              "      <td>Little Tokyo, Legaspi Village, Makati City, Ma...</td>\n",
              "      <td>121.014101</td>\n",
              "      <td>14.553708</td>\n",
              "      <td>Japanese</td>\n",
              "      <td>...</td>\n",
              "      <td>Botswana Pula(P)</td>\n",
              "      <td>Yes</td>\n",
              "      <td>No</td>\n",
              "      <td>No</td>\n",
              "      <td>No</td>\n",
              "      <td>3</td>\n",
              "      <td>4.5</td>\n",
              "      <td>Dark Green</td>\n",
              "      <td>Excellent</td>\n",
              "      <td>591</td>\n",
              "    </tr>\n",
              "    <tr>\n",
              "      <th>2</th>\n",
              "      <td>6300002</td>\n",
              "      <td>Heat - Edsa Shangri-La</td>\n",
              "      <td>162</td>\n",
              "      <td>Mandaluyong City</td>\n",
              "      <td>Edsa Shangri-La, 1 Garden Way, Ortigas, Mandal...</td>\n",
              "      <td>Edsa Shangri-La, Ortigas, Mandaluyong City</td>\n",
              "      <td>Edsa Shangri-La, Ortigas, Mandaluyong City, Ma...</td>\n",
              "      <td>121.056831</td>\n",
              "      <td>14.581404</td>\n",
              "      <td>Seafood, Asian, Filipino, Indian</td>\n",
              "      <td>...</td>\n",
              "      <td>Botswana Pula(P)</td>\n",
              "      <td>Yes</td>\n",
              "      <td>No</td>\n",
              "      <td>No</td>\n",
              "      <td>No</td>\n",
              "      <td>4</td>\n",
              "      <td>4.4</td>\n",
              "      <td>Green</td>\n",
              "      <td>Very Good</td>\n",
              "      <td>270</td>\n",
              "    </tr>\n",
              "    <tr>\n",
              "      <th>3</th>\n",
              "      <td>6318506</td>\n",
              "      <td>Ooma</td>\n",
              "      <td>162</td>\n",
              "      <td>Mandaluyong City</td>\n",
              "      <td>Third Floor, Mega Fashion Hall, SM Megamall, O...</td>\n",
              "      <td>SM Megamall, Ortigas, Mandaluyong City</td>\n",
              "      <td>SM Megamall, Ortigas, Mandaluyong City, Mandal...</td>\n",
              "      <td>121.056475</td>\n",
              "      <td>14.585318</td>\n",
              "      <td>Japanese, Sushi</td>\n",
              "      <td>...</td>\n",
              "      <td>Botswana Pula(P)</td>\n",
              "      <td>No</td>\n",
              "      <td>No</td>\n",
              "      <td>No</td>\n",
              "      <td>No</td>\n",
              "      <td>4</td>\n",
              "      <td>4.9</td>\n",
              "      <td>Dark Green</td>\n",
              "      <td>Excellent</td>\n",
              "      <td>365</td>\n",
              "    </tr>\n",
              "    <tr>\n",
              "      <th>4</th>\n",
              "      <td>6314302</td>\n",
              "      <td>Sambo Kojin</td>\n",
              "      <td>162</td>\n",
              "      <td>Mandaluyong City</td>\n",
              "      <td>Third Floor, Mega Atrium, SM Megamall, Ortigas...</td>\n",
              "      <td>SM Megamall, Ortigas, Mandaluyong City</td>\n",
              "      <td>SM Megamall, Ortigas, Mandaluyong City, Mandal...</td>\n",
              "      <td>121.057508</td>\n",
              "      <td>14.584450</td>\n",
              "      <td>Japanese, Korean</td>\n",
              "      <td>...</td>\n",
              "      <td>Botswana Pula(P)</td>\n",
              "      <td>Yes</td>\n",
              "      <td>No</td>\n",
              "      <td>No</td>\n",
              "      <td>No</td>\n",
              "      <td>4</td>\n",
              "      <td>4.8</td>\n",
              "      <td>Dark Green</td>\n",
              "      <td>Excellent</td>\n",
              "      <td>229</td>\n",
              "    </tr>\n",
              "  </tbody>\n",
              "</table>\n",
              "<p>5 rows × 21 columns</p>\n",
              "</div>\n",
              "    <div class=\"colab-df-buttons\">\n",
              "\n",
              "  <div class=\"colab-df-container\">\n",
              "    <button class=\"colab-df-convert\" onclick=\"convertToInteractive('df-65f43ad7-db29-42b1-914e-69770e3badf6')\"\n",
              "            title=\"Convert this dataframe to an interactive table.\"\n",
              "            style=\"display:none;\">\n",
              "\n",
              "  <svg xmlns=\"http://www.w3.org/2000/svg\" height=\"24px\" viewBox=\"0 -960 960 960\">\n",
              "    <path d=\"M120-120v-720h720v720H120Zm60-500h600v-160H180v160Zm220 220h160v-160H400v160Zm0 220h160v-160H400v160ZM180-400h160v-160H180v160Zm440 0h160v-160H620v160ZM180-180h160v-160H180v160Zm440 0h160v-160H620v160Z\"/>\n",
              "  </svg>\n",
              "    </button>\n",
              "\n",
              "  <style>\n",
              "    .colab-df-container {\n",
              "      display:flex;\n",
              "      gap: 12px;\n",
              "    }\n",
              "\n",
              "    .colab-df-convert {\n",
              "      background-color: #E8F0FE;\n",
              "      border: none;\n",
              "      border-radius: 50%;\n",
              "      cursor: pointer;\n",
              "      display: none;\n",
              "      fill: #1967D2;\n",
              "      height: 32px;\n",
              "      padding: 0 0 0 0;\n",
              "      width: 32px;\n",
              "    }\n",
              "\n",
              "    .colab-df-convert:hover {\n",
              "      background-color: #E2EBFA;\n",
              "      box-shadow: 0px 1px 2px rgba(60, 64, 67, 0.3), 0px 1px 3px 1px rgba(60, 64, 67, 0.15);\n",
              "      fill: #174EA6;\n",
              "    }\n",
              "\n",
              "    .colab-df-buttons div {\n",
              "      margin-bottom: 4px;\n",
              "    }\n",
              "\n",
              "    [theme=dark] .colab-df-convert {\n",
              "      background-color: #3B4455;\n",
              "      fill: #D2E3FC;\n",
              "    }\n",
              "\n",
              "    [theme=dark] .colab-df-convert:hover {\n",
              "      background-color: #434B5C;\n",
              "      box-shadow: 0px 1px 3px 1px rgba(0, 0, 0, 0.15);\n",
              "      filter: drop-shadow(0px 1px 2px rgba(0, 0, 0, 0.3));\n",
              "      fill: #FFFFFF;\n",
              "    }\n",
              "  </style>\n",
              "\n",
              "    <script>\n",
              "      const buttonEl =\n",
              "        document.querySelector('#df-65f43ad7-db29-42b1-914e-69770e3badf6 button.colab-df-convert');\n",
              "      buttonEl.style.display =\n",
              "        google.colab.kernel.accessAllowed ? 'block' : 'none';\n",
              "\n",
              "      async function convertToInteractive(key) {\n",
              "        const element = document.querySelector('#df-65f43ad7-db29-42b1-914e-69770e3badf6');\n",
              "        const dataTable =\n",
              "          await google.colab.kernel.invokeFunction('convertToInteractive',\n",
              "                                                    [key], {});\n",
              "        if (!dataTable) return;\n",
              "\n",
              "        const docLinkHtml = 'Like what you see? Visit the ' +\n",
              "          '<a target=\"_blank\" href=https://colab.research.google.com/notebooks/data_table.ipynb>data table notebook</a>'\n",
              "          + ' to learn more about interactive tables.';\n",
              "        element.innerHTML = '';\n",
              "        dataTable['output_type'] = 'display_data';\n",
              "        await google.colab.output.renderOutput(dataTable, element);\n",
              "        const docLink = document.createElement('div');\n",
              "        docLink.innerHTML = docLinkHtml;\n",
              "        element.appendChild(docLink);\n",
              "      }\n",
              "    </script>\n",
              "  </div>\n",
              "\n",
              "\n",
              "<div id=\"df-96c93aa8-651c-4e97-9688-fb80c222463c\">\n",
              "  <button class=\"colab-df-quickchart\" onclick=\"quickchart('df-96c93aa8-651c-4e97-9688-fb80c222463c')\"\n",
              "            title=\"Suggest charts\"\n",
              "            style=\"display:none;\">\n",
              "\n",
              "<svg xmlns=\"http://www.w3.org/2000/svg\" height=\"24px\"viewBox=\"0 0 24 24\"\n",
              "     width=\"24px\">\n",
              "    <g>\n",
              "        <path d=\"M19 3H5c-1.1 0-2 .9-2 2v14c0 1.1.9 2 2 2h14c1.1 0 2-.9 2-2V5c0-1.1-.9-2-2-2zM9 17H7v-7h2v7zm4 0h-2V7h2v10zm4 0h-2v-4h2v4z\"/>\n",
              "    </g>\n",
              "</svg>\n",
              "  </button>\n",
              "\n",
              "<style>\n",
              "  .colab-df-quickchart {\n",
              "      --bg-color: #E8F0FE;\n",
              "      --fill-color: #1967D2;\n",
              "      --hover-bg-color: #E2EBFA;\n",
              "      --hover-fill-color: #174EA6;\n",
              "      --disabled-fill-color: #AAA;\n",
              "      --disabled-bg-color: #DDD;\n",
              "  }\n",
              "\n",
              "  [theme=dark] .colab-df-quickchart {\n",
              "      --bg-color: #3B4455;\n",
              "      --fill-color: #D2E3FC;\n",
              "      --hover-bg-color: #434B5C;\n",
              "      --hover-fill-color: #FFFFFF;\n",
              "      --disabled-bg-color: #3B4455;\n",
              "      --disabled-fill-color: #666;\n",
              "  }\n",
              "\n",
              "  .colab-df-quickchart {\n",
              "    background-color: var(--bg-color);\n",
              "    border: none;\n",
              "    border-radius: 50%;\n",
              "    cursor: pointer;\n",
              "    display: none;\n",
              "    fill: var(--fill-color);\n",
              "    height: 32px;\n",
              "    padding: 0;\n",
              "    width: 32px;\n",
              "  }\n",
              "\n",
              "  .colab-df-quickchart:hover {\n",
              "    background-color: var(--hover-bg-color);\n",
              "    box-shadow: 0 1px 2px rgba(60, 64, 67, 0.3), 0 1px 3px 1px rgba(60, 64, 67, 0.15);\n",
              "    fill: var(--button-hover-fill-color);\n",
              "  }\n",
              "\n",
              "  .colab-df-quickchart-complete:disabled,\n",
              "  .colab-df-quickchart-complete:disabled:hover {\n",
              "    background-color: var(--disabled-bg-color);\n",
              "    fill: var(--disabled-fill-color);\n",
              "    box-shadow: none;\n",
              "  }\n",
              "\n",
              "  .colab-df-spinner {\n",
              "    border: 2px solid var(--fill-color);\n",
              "    border-color: transparent;\n",
              "    border-bottom-color: var(--fill-color);\n",
              "    animation:\n",
              "      spin 1s steps(1) infinite;\n",
              "  }\n",
              "\n",
              "  @keyframes spin {\n",
              "    0% {\n",
              "      border-color: transparent;\n",
              "      border-bottom-color: var(--fill-color);\n",
              "      border-left-color: var(--fill-color);\n",
              "    }\n",
              "    20% {\n",
              "      border-color: transparent;\n",
              "      border-left-color: var(--fill-color);\n",
              "      border-top-color: var(--fill-color);\n",
              "    }\n",
              "    30% {\n",
              "      border-color: transparent;\n",
              "      border-left-color: var(--fill-color);\n",
              "      border-top-color: var(--fill-color);\n",
              "      border-right-color: var(--fill-color);\n",
              "    }\n",
              "    40% {\n",
              "      border-color: transparent;\n",
              "      border-right-color: var(--fill-color);\n",
              "      border-top-color: var(--fill-color);\n",
              "    }\n",
              "    60% {\n",
              "      border-color: transparent;\n",
              "      border-right-color: var(--fill-color);\n",
              "    }\n",
              "    80% {\n",
              "      border-color: transparent;\n",
              "      border-right-color: var(--fill-color);\n",
              "      border-bottom-color: var(--fill-color);\n",
              "    }\n",
              "    90% {\n",
              "      border-color: transparent;\n",
              "      border-bottom-color: var(--fill-color);\n",
              "    }\n",
              "  }\n",
              "</style>\n",
              "\n",
              "  <script>\n",
              "    async function quickchart(key) {\n",
              "      const quickchartButtonEl =\n",
              "        document.querySelector('#' + key + ' button');\n",
              "      quickchartButtonEl.disabled = true;  // To prevent multiple clicks.\n",
              "      quickchartButtonEl.classList.add('colab-df-spinner');\n",
              "      try {\n",
              "        const charts = await google.colab.kernel.invokeFunction(\n",
              "            'suggestCharts', [key], {});\n",
              "      } catch (error) {\n",
              "        console.error('Error during call to suggestCharts:', error);\n",
              "      }\n",
              "      quickchartButtonEl.classList.remove('colab-df-spinner');\n",
              "      quickchartButtonEl.classList.add('colab-df-quickchart-complete');\n",
              "    }\n",
              "    (() => {\n",
              "      let quickchartButtonEl =\n",
              "        document.querySelector('#df-96c93aa8-651c-4e97-9688-fb80c222463c button');\n",
              "      quickchartButtonEl.style.display =\n",
              "        google.colab.kernel.accessAllowed ? 'block' : 'none';\n",
              "    })();\n",
              "  </script>\n",
              "</div>\n",
              "\n",
              "    </div>\n",
              "  </div>\n"
            ],
            "application/vnd.google.colaboratory.intrinsic+json": {
              "type": "dataframe",
              "variable_name": "df"
            }
          },
          "metadata": {},
          "execution_count": 2
        }
      ]
    },
    {
      "cell_type": "code",
      "source": [
        "\n",
        "print(df.isnull().sum())\n"
      ],
      "metadata": {
        "colab": {
          "base_uri": "https://localhost:8080/"
        },
        "id": "H1Uqus_Axbs-",
        "outputId": "92dd6ffe-8ef9-4560-e9c7-582f189b4bf8"
      },
      "execution_count": 3,
      "outputs": [
        {
          "output_type": "stream",
          "name": "stdout",
          "text": [
            "Restaurant ID           0\n",
            "Restaurant Name         0\n",
            "Country Code            0\n",
            "City                    0\n",
            "Address                 0\n",
            "Locality                0\n",
            "Locality Verbose        0\n",
            "Longitude               0\n",
            "Latitude                0\n",
            "Cuisines                9\n",
            "Average Cost for two    0\n",
            "Currency                0\n",
            "Has Table booking       0\n",
            "Has Online delivery     0\n",
            "Is delivering now       0\n",
            "Switch to order menu    0\n",
            "Price range             0\n",
            "Aggregate rating        0\n",
            "Rating color            0\n",
            "Rating text             0\n",
            "Votes                   0\n",
            "dtype: int64\n"
          ]
        }
      ]
    },
    {
      "cell_type": "code",
      "source": [
        "df['Cuisines'] = df['Cuisines'].fillna(df['Cuisines'].mode()[0])\n"
      ],
      "metadata": {
        "id": "OkwU5aaPxugS"
      },
      "execution_count": 6,
      "outputs": []
    },
    {
      "cell_type": "code",
      "source": [
        "print(df['Cuisines'].isnull().sum())"
      ],
      "metadata": {
        "colab": {
          "base_uri": "https://localhost:8080/"
        },
        "id": "fTcBNTu6x7ep",
        "outputId": "2bae2740-8578-4074-92ea-b6c9e48f09c5"
      },
      "execution_count": 7,
      "outputs": [
        {
          "output_type": "stream",
          "name": "stdout",
          "text": [
            "0\n"
          ]
        }
      ]
    },
    {
      "cell_type": "markdown",
      "source": [
        "# **Task 1: Table Booking and Online Delivery**\n",
        "\n",
        "- Determine the percentage of restaurants that\n",
        "offer table booking and online delivery."
      ],
      "metadata": {
        "id": "nor-GKowyU6B"
      }
    },
    {
      "source": [
        "import pandas as pd\n",
        "\n",
        "\n",
        "df_cleaned = df.dropna()\n",
        "\n",
        "total_restaurants = len(df_cleaned)\n",
        "\n",
        "# Percentage of restaurants that offer table booking\n",
        "table_booking_count = df_cleaned[df_cleaned['Has Table booking'] == 'Yes'].shape[0]\n",
        "table_booking_percentage = (table_booking_count / total_restaurants) * 100\n",
        "\n",
        "# Percentage of restaurants that offer online delivery\n",
        "online_delivery_count = df_cleaned[df_cleaned['Has Online delivery'] == 'Yes'].shape[0]\n",
        "online_delivery_percentage = (online_delivery_count / total_restaurants) * 100\n",
        "\n",
        "print(f\"Percentage of restaurants that offer table booking: {table_booking_percentage:.2f}%\")\n",
        "print(f\"Percentage of restaurants that offer online delivery: {online_delivery_percentage:.2f}%\")"
      ],
      "cell_type": "code",
      "metadata": {
        "colab": {
          "base_uri": "https://localhost:8080/"
        },
        "id": "Sx9KY04ZzWrN",
        "outputId": "5c692a47-56af-497e-d701-e4097de8c53f"
      },
      "execution_count": 9,
      "outputs": [
        {
          "output_type": "stream",
          "name": "stdout",
          "text": [
            "Percentage of restaurants that offer table booking: 12.12%\n",
            "Percentage of restaurants that offer online delivery: 25.66%\n"
          ]
        }
      ]
    },
    {
      "cell_type": "code",
      "source": [
        "import matplotlib.pyplot as plt\n",
        "\n",
        "labels = ['Table Booking', 'Online Delivery']\n",
        "sizes = [table_booking_percentage, online_delivery_percentage]\n",
        "\n",
        "plt.pie(sizes, labels=labels, autopct='%1.1f%%', startangle=90)\n",
        "\n",
        "plt.title('Percentage of Restaurants with Table Booking and Online Delivery')\n",
        "\n",
        "plt.axis('equal')\n",
        "\n",
        "plt.show()"
      ],
      "metadata": {
        "colab": {
          "base_uri": "https://localhost:8080/",
          "height": 428
        },
        "id": "EpI4TW1w1Fhk",
        "outputId": "154342bd-fd1b-4bad-d40e-180d1b1bae8a"
      },
      "execution_count": 11,
      "outputs": [
        {
          "output_type": "display_data",
          "data": {
            "text/plain": [
              "<Figure size 640x480 with 1 Axes>"
            ],
            "image/png": "[encoded data removed]"
          },
          "metadata": {}
        }
      ]
    },
    {
      "cell_type": "markdown",
      "source": [
        "- Compare the average ratings of restaurants\n",
        "with table booking and those without."
      ],
      "metadata": {
        "id": "GxaNsFp70BA0"
      }
    },
    {
      "source": [
        "avg_rating_with_booking = df_cleaned[df_cleaned['Has Table booking'] == 'Yes']['Aggregate rating'].mean()\n",
        "\n",
        "avg_rating_without_booking = df_cleaned[df_cleaned['Has Table booking'] == 'No']['Aggregate rating'].mean()\n",
        "\n",
        "print(f\"Average rating for restaurants with table booking: {avg_rating_with_booking:.2f}\")\n",
        "print(f\"Average rating for restaurants without table booking: {avg_rating_without_booking:.2f}\")"
      ],
      "cell_type": "code",
      "metadata": {
        "colab": {
          "base_uri": "https://localhost:8080/"
        },
        "id": "bR3G0hjS0K6U",
        "outputId": "cde87635-8f1b-432b-c6ed-95b3597278e6"
      },
      "execution_count": 10,
      "outputs": [
        {
          "output_type": "stream",
          "name": "stdout",
          "text": [
            "Average rating for restaurants with table booking: 3.44\n",
            "Average rating for restaurants without table booking: 2.56\n"
          ]
        }
      ]
    },
    {
      "cell_type": "code",
      "source": [
        "import matplotlib.pyplot as plt\n",
        "\n",
        "labels = ['With Table Booking', 'Without Table Booking']\n",
        "sizes = [avg_rating_with_booking, avg_rating_without_booking]\n",
        "\n",
        "plt.pie(sizes, labels=labels, autopct='%1.1f%%', startangle=90)\n",
        "\n",
        "plt.title('Average Ratings of Restaurants with and without Table Booking')\n",
        "\n",
        "plt.axis('equal')\n",
        "\n",
        "plt.show()"
      ],
      "metadata": {
        "colab": {
          "base_uri": "https://localhost:8080/",
          "height": 428
        },
        "id": "6MOfWxkr1cYM",
        "outputId": "a4f128c5-1d88-48b4-d115-5f3f10e37e5a"
      },
      "execution_count": 12,
      "outputs": [
        {
          "output_type": "display_data",
          "data": {
            "text/plain": [
              "<Figure size 640x480 with 1 Axes>"
            ],
            "image/png": "[encoded data removed]"
          },
          "metadata": {}
        }
      ]
    },
    {
      "cell_type": "markdown",
      "source": [
        "- Analyze the availability of online delivery\n",
        "among restaurants with different price ranges.\n",
        "\n",
        "1. Price Ranges"
      ],
      "metadata": {
        "id": "QhBnFrVx2dgN"
      }
    },
    {
      "source": [
        "price_ranges = {\n",
        "    1: 'Low',\n",
        "    2: 'Medium',\n",
        "    3: 'High'\n",
        "}\n",
        "\n",
        "df_cleaned['Price Range'] = df_cleaned['Price range'].map(price_ranges)"
      ],
      "cell_type": "code",
      "metadata": {
        "id": "n3BLs-yG2vhv"
      },
      "execution_count": 15,
      "outputs": []
    },
    {
      "source": [
        "online_delivery_by_price = df_cleaned.groupby('Price Range')['Has Online delivery'].value_counts(normalize=True)\n",
        "\n",
        "print(online_delivery_by_price)\n"
      ],
      "cell_type": "code",
      "metadata": {
        "colab": {
          "base_uri": "https://localhost:8080/"
        },
        "id": "s8LhwhEs24zd",
        "outputId": "e5f9aede-90f3-4950-e25f-c4f364f70be1"
      },
      "execution_count": 14,
      "outputs": [
        {
          "output_type": "stream",
          "name": "stdout",
          "text": [
            "Price Range  Has Online delivery\n",
            "High         No                     0.708097\n",
            "             Yes                    0.291903\n",
            "Low          No                     0.842259\n",
            "             Yes                    0.157741\n",
            "Medium       No                     0.586894\n",
            "             Yes                    0.413106\n",
            "Name: proportion, dtype: float64\n"
          ]
        }
      ]
    },
    {
      "source": [
        "online_delivery_by_price.unstack().plot(kind='bar', stacked=True)\n",
        "plt.title('Online Delivery Availability by Price Range')\n",
        "plt.xlabel('Price Range')\n",
        "plt.ylabel('Percentage')\n",
        "plt.xticks(rotation=0)\n",
        "plt.legend(title='Online Delivery')\n",
        "plt.show()"
      ],
      "cell_type": "code",
      "metadata": {
        "colab": {
          "base_uri": "https://localhost:8080/",
          "height": 472
        },
        "id": "-0drieDP3Ipi",
        "outputId": "6e30c290-a006-4a6d-8ba7-fb10a7285dc7"
      },
      "execution_count": 16,
      "outputs": [
        {
          "output_type": "display_data",
          "data": {
            "text/plain": [
              "<Figure size 640x480 with 1 Axes>"
            ],
            "image/png": "[encoded data removed]"
          },
          "metadata": {}
        }
      ]
    },
    {
      "cell_type": "markdown",
      "source": [
        "# **Task 2: Price Range Analysis**\n",
        "\n",
        "- Determine the most common price range\n",
        "among all the restaurants."
      ],
      "metadata": {
        "id": "o5S2FyFF3nkw"
      }
    },
    {
      "source": [
        "price_range_counts = df_cleaned['Price Range'].value_counts()\n",
        "\n",
        "most_common_price_range = price_range_counts.idxmax()\n",
        "\n",
        "print(f\"The most common price range is: {most_common_price_range}\")"
      ],
      "cell_type": "code",
      "metadata": {
        "colab": {
          "base_uri": "https://localhost:8080/"
        },
        "id": "WJZC2CFQ37mj",
        "outputId": "5adf3026-4c49-455a-cc24-fa1ab18fa91d"
      },
      "execution_count": 17,
      "outputs": [
        {
          "output_type": "stream",
          "name": "stdout",
          "text": [
            "The most common price range is: Low\n"
          ]
        }
      ]
    },
    {
      "cell_type": "markdown",
      "source": [
        "- Calculate the average rating for each price\n",
        "range."
      ],
      "metadata": {
        "id": "mHwrQhj04Ixr"
      }
    },
    {
      "source": [
        "average_rating_by_price = df_cleaned.groupby('Price Range')['Aggregate rating'].mean()\n",
        "\n",
        "print(average_rating_by_price)"
      ],
      "cell_type": "code",
      "metadata": {
        "colab": {
          "base_uri": "https://localhost:8080/"
        },
        "id": "UclxxLyY4Vng",
        "outputId": "45ec18eb-3729-4b34-d90c-0a203fa3f60a"
      },
      "execution_count": 18,
      "outputs": [
        {
          "output_type": "stream",
          "name": "stdout",
          "text": [
            "Price Range\n",
            "High      3.683381\n",
            "Low       1.999887\n",
            "Medium    2.941054\n",
            "Name: Aggregate rating, dtype: float64\n"
          ]
        }
      ]
    },
    {
      "source": [
        "import matplotlib.pyplot as plt\n",
        "\n",
        "average_ratings = average_rating_by_price.values\n",
        "price_ranges = average_rating_by_price.index\n",
        "\n",
        "plt.pie(average_ratings, labels=price_ranges, autopct='%1.1f%%', startangle=90)\n",
        "plt.title('Average Rating by Price Range')\n",
        "plt.axis('equal')\n",
        "plt.show()"
      ],
      "cell_type": "code",
      "metadata": {
        "colab": {
          "base_uri": "https://localhost:8080/",
          "height": 429
        },
        "id": "GirpDCy94kZL",
        "outputId": "38e706fa-b0bc-45d9-ca92-93157d6e2b92"
      },
      "execution_count": 19,
      "outputs": [
        {
          "output_type": "display_data",
          "data": {
            "text/plain": [
              "<Figure size 640x480 with 1 Axes>"
            ],
            "image/png": "[encoded data removed]"
          },
          "metadata": {}
        }
      ]
    },
    {
      "cell_type": "markdown",
      "source": [
        "- Identify the color that represents the highest\n",
        "average rating among different price ranges."
      ],
      "metadata": {
        "id": "7erLQs1c5GJM"
      }
    },
    {
      "source": [
        "import matplotlib.pyplot as plt\n",
        "\n",
        "highest_rating_index = average_ratings.argmax()\n",
        "\n",
        "color_of_highest_rating = plt.cm.get_cmap()(highest_rating_index / len(average_ratings))\n",
        "\n",
        "print(f\"The color representing the highest average rating is: {color_of_highest_rating}\")"
      ],
      "cell_type": "code",
      "metadata": {
        "colab": {
          "base_uri": "https://localhost:8080/"
        },
        "id": "eND8O3-H5KnZ",
        "outputId": "4bfd3ca8-ad98-4dfd-af93-78548f246507"
      },
      "execution_count": 20,
      "outputs": [
        {
          "output_type": "stream",
          "name": "stdout",
          "text": [
            "The color representing the highest average rating is: (0.267004, 0.004874, 0.329415, 1.0)\n"
          ]
        },
        {
          "output_type": "stream",
          "name": "stderr",
          "text": [
            "<ipython-input-20-64c129790f39>:9: MatplotlibDeprecationWarning: The get_cmap function was deprecated in Matplotlib 3.7 and will be removed two minor releases later. Use ``matplotlib.colormaps[name]`` or ``matplotlib.colormaps.get_cmap(obj)`` instead.\n",
            "  color_of_highest_rating = plt.cm.get_cmap()(highest_rating_index / len(average_ratings))\n"
          ]
        }
      ]
    },
    {
      "cell_type": "markdown",
      "source": [
        "# **Task 3: Feature Engineering**\n",
        "\n",
        "\n",
        "- Extract additional features from the existing\n",
        "columns, such as the length of the restaurant\n",
        "name or address."
      ],
      "metadata": {
        "id": "voR9DGpA5mE4"
      }
    },
    {
      "source": [
        "df_cleaned['Restaurant Name Length'] = df_cleaned['Restaurant Name'].apply(len)\n",
        "\n",
        "df_cleaned['Address Length'] = df_cleaned['Address'].apply(len)"
      ],
      "cell_type": "code",
      "metadata": {
        "id": "NxRMn2IT525Q"
      },
      "execution_count": 21,
      "outputs": []
    },
    {
      "source": [
        "import pandas as pd\n",
        "\n",
        "data = {'Restaurant Name': ['Restaurant A', 'Cafe B', 'Diner C'], 'Address': ['123 Main St', '456 Oak Ave', '789 Pine Ln']}\n",
        "df = pd.DataFrame(data)\n",
        "\n",
        "df['Restaurant Name Length'] = df['Restaurant Name'].apply(len)\n",
        "df['Address Length'] = df['Address'].apply(len)\n",
        "\n",
        "print(df)"
      ],
      "cell_type": "code",
      "metadata": {
        "colab": {
          "base_uri": "https://localhost:8080/"
        },
        "id": "hSZQqtnj6Ba9",
        "outputId": "9fb70e31-539f-4a0b-eeec-d359cd047b6b"
      },
      "execution_count": 22,
      "outputs": [
        {
          "output_type": "stream",
          "name": "stdout",
          "text": [
            "  Restaurant Name      Address  Restaurant Name Length  Address Length\n",
            "0    Restaurant A  123 Main St                      12              11\n",
            "1          Cafe B  456 Oak Ave                       6              11\n",
            "2         Diner C  789 Pine Ln                       7              11\n"
          ]
        }
      ]
    },
    {
      "source": [
        "import matplotlib.pyplot as plt\n",
        "\n",
        "# Creating a scatter plot\n",
        "plt.scatter(df_cleaned['Restaurant Name Length'], df_cleaned['Address Length'])\n",
        "plt.title('Restaurant Name Length vs. Address Length')\n",
        "plt.xlabel('Restaurant Name Length')\n",
        "plt.ylabel('Address Length')\n",
        "plt.show()"
      ],
      "cell_type": "code",
      "metadata": {
        "colab": {
          "base_uri": "https://localhost:8080/",
          "height": 472
        },
        "id": "kkB41yWX6WjR",
        "outputId": "bb4a9d47-9b62-4bad-eb38-558dd276ef30"
      },
      "execution_count": 23,
      "outputs": [
        {
          "output_type": "display_data",
          "data": {
            "text/plain": [
              "<Figure size 640x480 with 1 Axes>"
            ],
            "image/png": "[encoded data removed]"
          },
          "metadata": {}
        }
      ]
    },
    {
      "cell_type": "markdown",
      "source": [
        "- Create new features like \"Has Table Booking\"\n",
        "or \"Has Online Delivery\" by encoding\n",
        "categorical variables."
      ],
      "metadata": {
        "id": "WthYzqCm6n_d"
      }
    },
    {
      "source": [
        "# Import LabelEncoder\n",
        "from sklearn.preprocessing import LabelEncoder\n",
        "\n",
        "# Creating a LabelEncoder object\n",
        "encoder = LabelEncoder()\n",
        "\n",
        "df_cleaned['Has Table Booking Encoded'] = encoder.fit_transform(df_cleaned['Has Table booking'])\n",
        "df_cleaned['Has Online Delivery Encoded'] = encoder.fit_transform(df_cleaned['Has Online delivery'])"
      ],
      "cell_type": "code",
      "metadata": {
        "id": "7n448KOZ6p9C"
      },
      "execution_count": 24,
      "outputs": []
    },
    {
      "source": [
        "import pandas as pd\n",
        "from sklearn.preprocessing import LabelEncoder\n",
        "\n",
        "data = {'Has Table booking': ['Yes', 'No', 'Yes'], 'Has Online delivery': ['No', 'Yes', 'Yes']}\n",
        "df = pd.DataFrame(data)\n",
        "\n",
        "# Encoding categorical variables\n",
        "encoder = LabelEncoder()\n",
        "df['Has Table Booking Encoded'] = encoder.fit_transform(df['Has Table booking'])\n",
        "df['Has Online Delivery Encoded'] = encoder.fit_transform(df['Has Online delivery'])\n",
        "\n",
        "# Displaying the updated DataFrame\n",
        "print(df)"
      ],
      "cell_type": "code",
      "metadata": {
        "colab": {
          "base_uri": "https://localhost:8080/"
        },
        "id": "CL6SRwT068Yr",
        "outputId": "ce907698-6f8d-4190-b5fc-e125a283c203"
      },
      "execution_count": 25,
      "outputs": [
        {
          "output_type": "stream",
          "name": "stdout",
          "text": [
            "  Has Table booking Has Online delivery  Has Table Booking Encoded  \\\n",
            "0               Yes                  No                          1   \n",
            "1                No                 Yes                          0   \n",
            "2               Yes                 Yes                          1   \n",
            "\n",
            "   Has Online Delivery Encoded  \n",
            "0                            0  \n",
            "1                            1  \n",
            "2                            1  \n"
          ]
        }
      ]
    }
  ]
}